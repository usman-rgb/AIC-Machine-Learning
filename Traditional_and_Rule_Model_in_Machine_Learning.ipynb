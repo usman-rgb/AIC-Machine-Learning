{
  "nbformat": 4,
  "nbformat_minor": 0,
  "metadata": {
    "colab": {
      "provenance": []
    },
    "kernelspec": {
      "name": "python3",
      "display_name": "Python 3"
    },
    "language_info": {
      "name": "python"
    }
  },
  "cells": [
    {
      "cell_type": "markdown",
      "source": [
        "# **Traditional and Rule Model in Machine Learning**"
      ],
      "metadata": {
        "id": "l3pUMh7QPkbM"
      }
    },
    {
      "cell_type": "code",
      "source": [
        "Name= input(\"Enter Your Name \")\n",
        "Age= int(input(\"Enter Your Age \"))\n",
        "Qualification= input(\"Enter Your Qualification \")\n",
        "Hieght= float(input(\"Enter Your Hieght \"))\n",
        "Weight= int(input(\"Enter Your Weight \"))\n",
        "City= input(\"Enter Your City Name \")\n",
        "BMI= int(input(\"Enter Your BMI \"))\n",
        "Gender= input(\"Enter Your Gender \")\n",
        "print(\"After Checking Your Gender \" + str(Gender), \"The BMI is \"+ str(BMI))\n",
        "if Gender == \"Male\":\n",
        "  if BMI > 20 and BMI <24:\n",
        "    print(\"You Are Healthy \")\n",
        "  elif BMI < 18:\n",
        "    print(\"You Are Under Weight \")\n",
        "  elif BMI > 25:\n",
        "    print(\"You Are Over Weight \")\n",
        "elif Gender == \"Female\":\n",
        "  if BMI > 19 and BMI <23:\n",
        "    print(\"You Are Healthy \")\n",
        "  elif BMI < 17:\n",
        "    print(\"You Are Under Weight \")\n",
        "  elif BMI > 24:\n",
        "    print(\"You Are Over Weight \")\n",
        "\n",
        "else:\n",
        "  print(\"Invalid Gender \")"
      ],
      "metadata": {
        "colab": {
          "base_uri": "https://localhost:8080/"
        },
        "id": "kP49Ya8CPvYr",
        "outputId": "880df3bc-6603-4927-9550-7416aefbd32f"
      },
      "execution_count": 6,
      "outputs": [
        {
          "output_type": "stream",
          "name": "stdout",
          "text": [
            "Enter Your Name Usman\n",
            "Enter Your Age 22\n",
            "Enter Your Qualification BS AI\n",
            "Enter Your Hieght 5.6\n",
            "Enter Your Weight 60\n",
            "Enter Your City Name Taunsa\n",
            "Enter Your BMI 22\n",
            "Enter Your Gender Male\n",
            "After Checking Your Gender Male The BMI is 22\n",
            "You Are Healthy \n"
          ]
        }
      ]
    },
    {
      "cell_type": "code",
      "source": [
        "university= input(\"Should I Choose university? (yes/no)\")\n",
        "if university == \"yes\":\n",
        "  university_name= input(\"Which Universit I Choose? (IUB/Ghazi University)\")\n",
        "  if university_name == \"IUB\":\n",
        "    department= input(\"Which Department I Choose? (CS/AI/CSS)\")\n",
        "    if department == \"CS\":\n",
        "      print(\"CS is Good Department \")\n",
        "    elif department == \"AI\":\n",
        "      print(\"AI is Modern Technology Department \")\n",
        "    elif department == \"CSS\":\n",
        "      print(\"CSS is Asistant Commissionar Department \")\n",
        "  elif university_name == \"Ghazi University\":\n",
        "    department= input(\"Which Department I Choose in Ghazi University? (English/IT/Urdu)\")\n",
        "    if department == \"English\":\n",
        "      print(\"English Language is Very Important in Our Daily Life \")\n",
        "    elif department == \"IT\":\n",
        "      print(\"IT is Modern Technology Department \")\n",
        "    elif department == \"Urdu\":\n",
        "      print(\"Urdu is Our National Language \")\n",
        "  else:\n",
        "    plans= input(\"If I not Choose University What Does I Work? (Programming/Teaching)\")\n",
        "    if plans== \"Programming\":\n",
        "      print(\"Programming is Very Important Language \")\n",
        "    elif plans == \"Teaching\":\n",
        "      print(\"Teaching is Very Important for Students \")"
      ],
      "metadata": {
        "colab": {
          "base_uri": "https://localhost:8080/"
        },
        "id": "n1HaXZQaTrDm",
        "outputId": "b47c7394-a898-40dc-9c87-135994ebb70d"
      },
      "execution_count": 7,
      "outputs": [
        {
          "output_type": "stream",
          "name": "stdout",
          "text": [
            "Should I Choose university? (yes/no)yes\n",
            "Which Universit I Choose? (IUB/Ghazi University)IUB\n",
            "Which Department I Choose? (CS/AI/CSS)AI\n",
            "AI is Modern Technology Department \n"
          ]
        }
      ]
    },
    {
      "cell_type": "code",
      "source": [
        "work= input(\"Should I Choose Work? (yes/no)\")\n",
        "if work == \"yes\":\n",
        "  skills= input(\"Which Skill is Very Important for Me? (SMM/SEO/Programming)\")\n",
        "  if skills == \"SMM\":\n",
        "    print(\"SMM is Very Important for Me \")\n",
        "  elif skills == \"SEO\":\n",
        "    print(\"SEO is Very Important for Me \")\n",
        "  elif skills == \"Programming\":\n",
        "    print(\"Programming is Very Important for Me \")\n",
        "else:\n",
        "  after_plans= input(\"If I not Choose Work What Does I Work? (Programming/Teaching)\")\n",
        "  if after_plans== \"Programming\":\n",
        "    print(\"Programming is Very Important Language \")\n",
        "  elif after_plans == \"Teaching\":\n",
        "    print(\"Teaching is Very Important for Students \")"
      ],
      "metadata": {
        "colab": {
          "base_uri": "https://localhost:8080/"
        },
        "id": "Z1w9SZH-YvEq",
        "outputId": "8f297a72-de23-4d58-b1a6-8b5dcc125042"
      },
      "execution_count": 8,
      "outputs": [
        {
          "output_type": "stream",
          "name": "stdout",
          "text": [
            "Should I Choose Work? (yes/no)Yes\n",
            "If I not Choose Work What Does I Work? (Programming/Teaching)Programming\n",
            "Programming is Very Important Language \n"
          ]
        }
      ]
    },
    {
      "cell_type": "code",
      "source": [
        "car= input(\"Should I Buy a Car? (yes/no)\")\n",
        "if car == \"yes\":\n",
        "  car_name= input(\"Which Car I Choose? (Toyota/Honda/Suzuki)\")\n",
        "  if car_name == \"Toyota\":\n",
        "    model= input(\"Which Model I Choose? (Corolla/Camry/Vitz)\")\n",
        "    if model == \"Corolla\":\n",
        "      print(\"Corolla is Very Beautiful Car \")\n",
        "    elif model == \"Camry\":\n",
        "      print(\"Camry is Very Briliiant Car \")\n",
        "    elif model == \"Vitz\":\n",
        "      print(\"Vitz is Very Dashing Car \")\n",
        "  elif car_name == \"Honda\":\n",
        "    model= input(\"Which Model I Choose? (Civic/City/Accord)\")\n",
        "    if model == \"Civic\":\n",
        "      print(\"Civic is Very Good Looking Car Car \")\n",
        "    elif model == \"City\":\n",
        "      print(\"City is Very Simple Car \")\n",
        "    elif model == \"Accord\":\n",
        "      print(\"Accord is Very Epensive Car \")\n",
        "  elif car_name == \"Suzuki\":\n",
        "    model= input(\"Which Model I Choose? (Swift/Mehran/Mehran Plus)\")\n",
        "    if model == \"Swift\":\n",
        "      print(\"Swift is Very Simple Car \")\n",
        "    elif model == \"Mehran\":\n",
        "      print(\"Mehran is Very Small Car \")\n",
        "    elif model == \"Mehran Plus\":\n",
        "      print(\"Mehran Plus is a Little Bit Better Than Mehran Car \")\n",
        "  else:\n",
        "    plans= input(\"If I not Choose Car What Does I Choose?(Motorbike/Motorcycle)\")\n",
        "    if plans== \"Motorbike\":\n",
        "      print(\"Motorbike is Very Epansive and does have Very Powerful Speed \")\n",
        "    elif plans == \"Motorcycle\":\n",
        "      print(\"Motorcycle is Very Simple and Easy to Drive This \")"
      ],
      "metadata": {
        "colab": {
          "base_uri": "https://localhost:8080/"
        },
        "id": "QW_c2tJ2aEWS",
        "outputId": "2ece987f-a2bb-48bd-ffd8-8d73ed0a3a10"
      },
      "execution_count": 9,
      "outputs": [
        {
          "output_type": "stream",
          "name": "stdout",
          "text": [
            "Should I Buy a Car? (yes/no)yes\n",
            "Which Car I Choose? (Toyota/Honda/Suzuki)Honda\n",
            "Which Model I Choose? (Civic/City/Accord)Civic\n",
            "Civic is Very Good Looking Car Car \n"
          ]
        }
      ]
    },
    {
      "cell_type": "code",
      "source": [
        "Cooking= input(\"Should I Cook? (yes/no)\")\n",
        "if Cooking == \"yes\":\n",
        "  Dishes= input(\"Which Dish I Cook? (Rice/Chicken)\")\n",
        "  if Dishes == \"Rice\":\n",
        "    ingredients= input(\"Which Gradients I Use In Rice? (Masalah/AcharGosht)\")\n",
        "    if ingredients == \"Masalah\":\n",
        "      print(\"Masalah is Make The Dishes Very Tasty \")\n",
        "    elif ingredients == \"AcharGosht\":\n",
        "      print(\"AcharGosht is Make the Dishes Very Tasty and Very Healthy \")\n",
        "  elif Dishes == \"Chicken\":\n",
        "    ingredients= input(\"Which Gradients I Use In Chicken? (Masalah/AcharGosht)\")\n",
        "    if ingredients == \"Masalah\":\n",
        "      print(\"Masalah is Make The Dishes Very Tasty \")\n",
        "    elif ingredients == \"AcharGosht\":\n",
        "      print(\"AcharGosht is Make the Dishes Very Tasty and Very Healthy \")\n",
        "  else:\n",
        "    print(\"I Should Not Cooking\")"
      ],
      "metadata": {
        "colab": {
          "base_uri": "https://localhost:8080/"
        },
        "id": "_hJNPKxzd1CU",
        "outputId": "73a6e5c0-76b4-4e8c-8032-593d110544aa"
      },
      "execution_count": 10,
      "outputs": [
        {
          "output_type": "stream",
          "name": "stdout",
          "text": [
            "Should I Cook? (yes/no)yes\n",
            "Which Dish I Cook? (Rice/Chicken)Rice\n",
            "Which Gradients I Use In Rice? (Masalah/AcharGosht)AcharGosht\n",
            "AcharGosht is Make the Dishes Very Tasty and Very Healthy \n"
          ]
        }
      ]
    }
  ]
}